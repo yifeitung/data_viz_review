{
 "cells": [
  {
   "cell_type": "markdown",
   "metadata": {
    "dc": {
     "key": "3"
    },
    "deletable": false,
    "editable": false,
    "run_control": {
     "frozen": true
    },
    "tags": [
     "context"
    ]
   },
   "source": [
    "## 1. Just how thirsty *is* Thursday?\n",
    "<p><img style=\"float: left;margin:5px 20px 5px 1px;width:55%\" src=\"https://assets.datacamp.com/production/project_489/img/shots.jpg\"> </p>\n",
    "<p>We have previously explored some breathalyzer test data from Ames, Iowa, USA, <a href=\"https://www.datacamp.com/projects/208\">here</a>. Now, we focus on working with the date and time information in the data. As a college town (Go <a href=\"http://image.cdnllnwnl.xosnetwork.com/pics/400/NO/NOEFYIAGQIRAYLN.20090102181254.jpg\">Cyclones</a>!), Ames has had its fair share of alcohol-related incidents. (For example, Google \"VEISHEA riots 2014\".) In this project, we examine breath alcohol test data in Ames from January 2013 to December 2017 that is published by the State of Iowa, specifically focusing on <em>when</em> these tests are administered. </p>\n",
    "<p>The data file \"breath<em>alcohol</em>datetimes.csv\" contains 1,556 observations from breath alcohol tests collected by the Ames and Iowa State University Police Departments. The columns in this dataset are: </p>\n",
    "<ol>\n",
    "<li><strong>DateTime</strong> - date &amp; time of test (datetime, \"America/Chicago\")              </li>\n",
    "<li><strong>Location</strong> - who administered the test, Ames PD or ISU PD? (char.)</li>\n",
    "<li><strong>Gender</strong> - gender (M,F) of person being tested (char.)</li>\n",
    "<li><strong>Res1</strong> - first breath alcohol reading (num.)</li>\n",
    "<li><strong>Res2</strong> - second breath alcohol reading (num.)</li>\n",
    "</ol>\n",
    "<p>First, we create a bar chart showing number of tests by day of the week to see when the most tests were done.   </p>"
   ]
  },
  {
   "cell_type": "code",
   "execution_count": 0,
   "metadata": {
    "dc": {
     "key": "3"
    },
    "tags": [
     "sample_code"
    ]
   },
   "outputs": [],
   "source": [
    "# load necessary packages \n",
    "library(tidyverse)\n",
    "library(lubridate)\n",
    "\n",
    "# read in the data from breath_alcohol_datetimes.csv\n",
    "ba_dates <- read_csv(\"datasets/breath_alcohol_datetimes.csv\")\n",
    "\n",
    "# change DateTime column to America/Chicago with force_tz\n",
    "ba_dates <- ba_dates %>% mutate(DateTime = force_tz())\n",
    "\n",
    "# create a wkday column in the ba_dates \n",
    "ba_dates <- ba_dates %>% mutate(wkday = ....)\n",
    "\n",
    "# create a bar chart of # tests by day of week\n",
    "ggplot(data = ...., aes(x = ....)) + \n",
    "  ...."
   ]
  },
  {
   "cell_type": "markdown",
   "metadata": {
    "dc": {
     "key": "10"
    },
    "deletable": false,
    "editable": false,
    "run_control": {
     "frozen": true
    },
    "tags": [
     "context"
    ]
   },
   "source": [
    "## 2. What makes Sunday so fun-day?\n",
    "<p>Well, that wasn't terribly surprising: Friday and Saturday are two of the most common days of the week for breathalyzer tests in a college town. But what might be <em>somewhat</em> surprising is that more tests occur on Sunday than on Friday.  But <em>when</em> on Sunday are these tests being administered?  To investigate, we look at the hour of the test and compare this data for Friday, Saturday, and Sunday. </p>"
   ]
  },
  {
   "cell_type": "code",
   "execution_count": 0,
   "metadata": {
    "dc": {
     "key": "10"
    },
    "tags": [
     "sample_code"
    ]
   },
   "outputs": [],
   "source": [
    "# create hour variable\n",
    "ba_dates <- ba_dates %>% mutate(hr = ....)\n",
    "\n",
    "# create weekend data frame\n",
    "weekend <- ba_dates %>% filter(....)\n",
    "\n",
    "# plot side-by side bar charts counting hour of the day of tests for each weekend day\n",
    "ggplot(data = ....) + \n",
    "  geom_bar(aes(x = ....)) + \n",
    "  facet_grid(.~....) + \n",
    "  scale_x_continuous(breaks = 1:12*2-1) # for ease of readability "
   ]
  },
  {
   "cell_type": "markdown",
   "metadata": {
    "dc": {
     "key": "17"
    },
    "deletable": false,
    "editable": false,
    "run_control": {
     "frozen": true
    },
    "tags": [
     "context"
    ]
   },
   "source": [
    "## 3. Trends in testing over time\n",
    "<p>We learned that most of the tests administered on Sundays are during early morning, from midnight to 5am. Strangely, the same pattern also exists on Friday mornings. (This is likely because Thursdays are \"Mug Nights\" in Ames, where you can get discounted drinks if you bring in the designated reusable mug.) Returning to the full dataset, we now explore  the pattern of alcohol tests over the years. To look at the \"bigger picture,\" let's count up the number of tests per day, and visualize the resulting time series using a line plot.</p>"
   ]
  },
  {
   "cell_type": "code",
   "execution_count": 0,
   "metadata": {
    "dc": {
     "key": "17"
    },
    "tags": [
     "sample_code"
    ]
   },
   "outputs": [],
   "source": [
    "# create a date column rounded to the nearest day. as.Date() is for the plot later\n",
    "ba_dates <- ba_dates %>% mutate(date = as.Date(....)) \n",
    "\n",
    "# count number of tests per date \n",
    "ba_summary <- ba_dates %>% ....\n",
    "\n",
    "# pipe the result from above into ggplot() using geom_line to create a time series plot.\n",
    "ba_summary %>% \n",
    "  ggplot() + \n",
    "  geom_line(aes(x = ...., y = ....), alpha = .7) + # change alpha for readability \n",
    "  scale_x_date(....) + \n",
    "  theme(axis.text.x = element_text(angle = 30)) # make x-axis more readable "
   ]
  },
  {
   "cell_type": "markdown",
   "metadata": {
    "dc": {
     "key": "24"
    },
    "deletable": false,
    "editable": false,
    "run_control": {
     "frozen": true
    },
    "tags": [
     "context"
    ]
   },
   "source": [
    "## 4. College football\n",
    "<p>In the time series, we see many days that have zero breathalyzer tests administered. In the entire five year period, there were at most eight tests in a day. There are many days with three or more tests in a day, and we wonder if the Iowa State football schedule may match up with some of those high test days. We next explore the Iowa State football schedule for 2013-2017. Data were downloaded from <a href=\"https://www.sports-reference.com/cfb/\">sports-reference.com</a>.</p>\n",
    "<p><img style=\"float: left;margin:5px 20px 5px 1px;width:95%\" src=\"https://assets.datacamp.com/production/project_489/img/football.jpg\"> </p>"
   ]
  },
  {
   "cell_type": "code",
   "execution_count": 0,
   "metadata": {
    "dc": {
     "key": "24"
    },
    "tags": [
     "sample_code"
    ]
   },
   "outputs": [],
   "source": [
    "# read in the football data \n",
    "isu_fb <- ....\n",
    "\n",
    "# make Date a date variable \n",
    "isu_fb <- isu_fb %>% mutate(Date = parse_date(...., format = ....))\n",
    "\n",
    "# filter ba_summary\n",
    "# .... YOUR CODE FOR TASK 4 ....\n",
    "\n",
    "# arrange ba_fb by number of tests from high to low and print first six rows \n",
    "ba_fb %>% .... %>% ...."
   ]
  },
  {
   "cell_type": "markdown",
   "metadata": {
    "dc": {
     "key": "31"
    },
    "deletable": false,
    "editable": false,
    "run_control": {
     "frozen": true
    },
    "tags": [
     "context"
    ]
   },
   "source": [
    "## 5. Home vs. away? Win vs. lose?\n",
    "<p>The most breathalyzer tests given on a football game day was on Sept. 24, 2016. This was a home game against San Jose State that Iowa State won 44-10. The win/loss information is in the <code>Res</code> column in <code>isu_fb</code>. Could the home game win have led to some excessive celebrations that resulted in more breathalyzer tests than an away win or a home loss? </p>"
   ]
  },
  {
   "cell_type": "code",
   "execution_count": 0,
   "metadata": {
    "dc": {
     "key": "31"
    },
    "tags": [
     "sample_code"
    ]
   },
   "outputs": [],
   "source": [
    "# join ba_summary to isu_fb \n",
    "isu_fb2 <- isu_fb %>% left_join(...., by = ....)\n",
    "\n",
    "# change nas to 0s \n",
    "isu_fb2 <- isu_fb2 %>% mutate(n = ifelse(...., ...., ....))\n",
    "\n",
    "# plot \n",
    "# .... YOUR CODE FOR TASK 5 ...."
   ]
  },
  {
   "cell_type": "markdown",
   "metadata": {
    "dc": {
     "key": "38"
    },
    "deletable": false,
    "editable": false,
    "run_control": {
     "frozen": true
    },
    "tags": [
     "context"
    ]
   },
   "source": [
    "## 6. Monthly counts\n",
    "<p>The football season typically lasts from September through November. As we just saw, Iowa State football has more losses than wins in the last few years. The men's basketball team, however, has traditionally been very successful. The basketball season usually lasts from November through March. We now investigate the number of breathalyzer tests by month to see if the basketball months have more tests than the football months. </p>"
   ]
  },
  {
   "cell_type": "code",
   "execution_count": 0,
   "metadata": {
    "dc": {
     "key": "38"
    },
    "tags": [
     "sample_code"
    ]
   },
   "outputs": [],
   "source": [
    "# create a mo and a yr column in ba_dates\n",
    "ba_dates <- ba_dates %>% mutate(mo = month(...., ....), yr = ....)\n",
    "\n",
    "# make bar chart by mo.\n",
    "# .... YOUR CODE FOR TASK 6 ....\n",
    "\n",
    "# color by year \n",
    "# .... YOUR CODE FOR TASK 6 ...."
   ]
  },
  {
   "cell_type": "markdown",
   "metadata": {
    "dc": {
     "key": "45"
    },
    "deletable": false,
    "editable": false,
    "run_control": {
     "frozen": true
    },
    "tags": [
     "context"
    ]
   },
   "source": [
    "## 7. VEISHEA: an old tradition\n",
    "<p>The monthly bar charts show that the months with the most test per day are August and April. April is a surprise because there are no major college sports in April, and students are busy studying for finals and finishing semester projects. Well, at Iowa State, there was a historical weeklong festival known as VEISHEA held in April every year.  It was cancelled in 2014 due to the many drinking-related arrests, violence, and vandalism that occurred yearly. Looking at the VEISHEA weeks and subsequent non-VEISHEA weeks, can we see the effect of the cancellation in the breathalyzer data? </p>"
   ]
  },
  {
   "cell_type": "code",
   "execution_count": 0,
   "metadata": {
    "dc": {
     "key": "45"
    },
    "tags": [
     "sample_code"
    ]
   },
   "outputs": [],
   "source": [
    "# In 2013, VEISHEA was held from April 15-21. In 2014, it was held from April 7-13. \n",
    "v13 <- interval(make_date(...., ...., ....) , make_date(...., ...., ....), tzone = ....)\n",
    "v14 <- interval(make_date(...., ...., ....) , make_date(...., ...., ....), tzone = ....)\n",
    "# Other comparable VEISHEA weeks in 2015-2017\n",
    "v15 <- interval(make_date(2015, 4, 13) , make_date(2015, 4, 19), tzone = \"America/Chicago\")\n",
    "v16 <- interval(make_date(2016, 4, 11) , make_date(2016, 4, 17), tzone = \"America/Chicago\")\n",
    "v17 <- interval(make_date(2017, 4, 10) , make_date(2017, 4, 16), tzone = \"America/Chicago\")\n",
    "\n",
    "# filter ba_dates for only the 5 veishea intervals\n",
    "veishea <- ba_dates %>% filter(.... %within% .... | ....)\n",
    "\n",
    "# count up years \n",
    "veishea %>% count(....)"
   ]
  },
  {
   "cell_type": "markdown",
   "metadata": {
    "dc": {
     "key": "52"
    },
    "deletable": false,
    "editable": false,
    "run_control": {
     "frozen": true
    },
    "tags": [
     "context"
    ]
   },
   "source": [
    "## 8. Looking at BAC\n",
    "<p>Finally, let's look at the actual results of the breathalyzer tests. Based on our knowledge from Section 2, we suspect that the highest BAC results occur late and night and in the early morning, since those times are most common for tests on the weekends. </p>"
   ]
  },
  {
   "cell_type": "code",
   "execution_count": 0,
   "metadata": {
    "dc": {
     "key": "52"
    },
    "tags": [
     "sample_code"
    ]
   },
   "outputs": [],
   "source": [
    "# take a mean of res1, res2\n",
    "# .... YOUR CODE FOR TASK 8 ....\n",
    "\n",
    "# library the ggridges package\n",
    "# .... YOUR CODE FOR TASK 8 ....\n",
    "\n",
    "# make ridgeline plot \n",
    "ggplot(data = ba_dates, aes(x = ...., y = ...., group = ....)) +\n",
    "  # some style choices made already\n",
    "  geom_density_ridges(alpha = 0.7, fill = \"steelblue\", bandwidth = .01, rel_min_height = 0.0001) + \n",
    "  scale_y_continuous(breaks = 0:23)"
   ]
  },
  {
   "cell_type": "markdown",
   "metadata": {
    "dc": {
     "key": "59"
    },
    "deletable": false,
    "editable": false,
    "run_control": {
     "frozen": true
    },
    "tags": [
     "context"
    ]
   },
   "source": [
    "## 9. A more honest plot\n",
    "<p>In the previous ridgeline plot, there are values below zero. This is impossible given the context: you cannot have negative alcohol concentration in your blood. We examine the zeroes below and make a more honest ridgeline plot. </p>"
   ]
  },
  {
   "cell_type": "code",
   "execution_count": 0,
   "metadata": {
    "dc": {
     "key": "59"
    },
    "tags": [
     "sample_code"
    ]
   },
   "outputs": [],
   "source": [
    "# create a zero indicator variable \n",
    "ba_dates <- ba_dates %>% mutate(zero = .... == ....)\n",
    "\n",
    "# tabulate the data by the zero column\n",
    "# .... YOUR CODE FOR TASK 8 ....\n",
    "\n",
    "# redo ridge with no 0s\n",
    "ba_dates %>% filter(....) %>% \n",
    "ggplot(aes(x = ...., y = ...., group = ....)) +\n",
    "  geom_density_ridges(alpha = 0.7, fill = \"steelblue\", bandwidth = .01, rel_min_height = 0.005) + \n",
    "  scale_y_continuous(breaks = 0:23)"
   ]
  },
  {
   "cell_type": "markdown",
   "metadata": {
    "dc": {
     "key": "67"
    },
    "deletable": false,
    "editable": false,
    "run_control": {
     "frozen": true
    },
    "tags": [
     "context"
    ]
   },
   "source": [
    "## 10. The dangers of binge drinking\n",
    "<p>At a breath alcohol level of 0.16-0.30, a person will experience significant \"speech, memory, coordination, attention, reaction time, [and] balance\" impairment. Someone's \"driving-related skills\" and \"judgement and decision making\" are dangerously impaired, and they may experience \"blackouts, vomiting […] and loss of consciousness\". BAC of 0.31 or above is life-threatening with \"significant risk of death\" (<a href=\"https://medlineplus.gov/magazine/issues/spring14/articles/spring14pg23.html\">source</a>). We conclude by looking at the time of day during which the most dangerous levels of alcohol consumption appear in the Ames data. Do the dates, times, and days of week match what one would expect? </p>\n",
    "<p>While this report has taken a fun and playful tone, it is important to be aware of the seriousness of this issue. According to <a href=\"https://www.niaaa.nih.gov/alcohol-health/overview-alcohol-consumption/alcohol-facts-and-statistics\">research</a>, nearly 2,000 college students die each year from alcohol-related injuries. If you or a loved one are struggling with alcohol abuse, please seek <a href=\"https://pubs.niaaa.nih.gov/publications/treatment/treatment.htm\">help</a>. </p>"
   ]
  },
  {
   "cell_type": "code",
   "execution_count": 0,
   "metadata": {
    "dc": {
     "key": "67"
    },
    "tags": [
     "sample_code"
    ]
   },
   "outputs": [],
   "source": [
    "# filter the ba_dates data to contain only those with the most dangerous result\n",
    "danger <- ba_dates %>% ....\n",
    "\n",
    "# print danger\n",
    "print(danger)"
   ]
  }
 ],
 "metadata": {
  "kernelspec": {
   "display_name": "R",
   "language": "R",
   "name": "ir"
  },
  "language_info": {
   "codemirror_mode": "r",
   "file_extension": ".r",
   "mimetype": "text/x-r-source",
   "name": "R",
   "pygments_lexer": "r",
   "version": "3.6.1"
  }
 },
 "nbformat": 4,
 "nbformat_minor": 2
}
