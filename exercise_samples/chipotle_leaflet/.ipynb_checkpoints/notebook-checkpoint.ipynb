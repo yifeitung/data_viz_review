{
 "cells": [
  {
   "cell_type": "markdown",
   "metadata": {
    "dc": {
     "key": "3"
    },
    "deletable": false,
    "editable": false,
    "run_control": {
     "frozen": true
    },
    "tags": [
     "context"
    ]
   },
   "source": [
    "## 1. Chipotle locations from Thinknum\n",
    "<p>Some of us have thought about opening a business and most of us have thought about grabbing a burrito from Chipotle. To do either of these things we need to know where the current Chipotle stores are (and are not) located. </p>\n",
    "<p>In this notebook, the <code>leaflet</code> package in R and data from <a href=\"https://www.thinknum.com/\">Thinknum</a> are used to find potential locations for new Chipotle restaurants as well as the closest place to grab a burrito. </p>\n",
    "<p>Thinknum tracks thousands of websites capturing and indexing vast amounts of public data. Let's get started by loading and exploring data on every Chipotle restaurant tracked in the Thinknum data. Then we will build several <code>leaflet</code> maps that we can use to explore the data and to see where we might recommend opening a Chipotle.</p>\n",
    "<p><img src=\"https://assets.datacamp.com/production/project_478/img/Chipotle_Mexican_Grill_logo.png\" alt=\"logo\"></p>"
   ]
  },
  {
   "cell_type": "code",
   "execution_count": 0,
   "metadata": {
    "dc": {
     "key": "3"
    },
    "tags": [
     "sample_code"
    ]
   },
   "outputs": [],
   "source": [
    "# Load tidyverse, leaflet, and leaflet.extras\n",
    "library(....)\n",
    "library(....)\n",
    "library(....)\n",
    "library(sf)\n",
    "\n",
    "# Read datasets/chipotle.csv into a tibble named chipotle using read_csv\n",
    "chipotle <- read_csv(....)\n",
    "\n",
    "# Print out the chipotle tibble using the head function\n",
    "# .... YOUR CODE FOR TASK 1 ...."
   ]
  },
  {
   "cell_type": "markdown",
   "metadata": {
    "dc": {
     "key": "10"
    },
    "deletable": false,
    "editable": false,
    "run_control": {
     "frozen": true
    },
    "tags": [
     "context"
    ]
   },
   "source": [
    "## 2. Do Chipotle stores ever close?\n",
    "<p>First, let's make sure we don't recommend opening a location where one has already been closed. This may also prevent many a disappointing Chipotle run to closed locations. Rather than looking just at the city/state pairs in the data, we can plot all of the closed locations to see exactly where the restaurants were located. </p>\n",
    "<p><code>leaflet</code> maps work with the <code>%&gt;%</code> operator so we can pipe our <code>chipotle</code> data directly into a chain of function calls to produce an interactive map. All of the Chipotle locations have already been geocoded. The <code>leaflet</code> package will scan our column names for variables that are likely lat and lon and if we use a common naming convention (e.g., lat/lon, latitude/longitude, or lat/lng), <code>leaflet</code> will automatically know which columns contain our coordinates. </p>\n",
    "<p>Because of their interactive features <code>leaflet</code> maps can be especially helpful for exploratory data analyses. After we make our first map take a minute or two to zoom and pan the map to explore where Chipotle locations have closed. </p>"
   ]
  },
  {
   "cell_type": "code",
   "execution_count": 0,
   "metadata": {
    "dc": {
     "key": "10"
    },
    "tags": [
     "sample_code"
    ]
   },
   "outputs": [],
   "source": [
    "# Create a leaflet map of all closed Chipotle stores\n",
    "closed_chipotles <- \n",
    ".... %>% \n",
    "  # Filter the chipotle tibble to stores with a value of t for closed\n",
    "  filter(....) %>% \n",
    "  leaflet() %>% \n",
    "  # Use addTiles to plot the closed stores on the default Open Street Map tile\n",
    "  ....() %>%\n",
    "  # Plot the closed stores using addCircles\n",
    "  ....() \n",
    "\n",
    "# Print map of closed chipotles\n",
    "closed_chipotles"
   ]
  },
  {
   "cell_type": "markdown",
   "metadata": {
    "dc": {
     "key": "17"
    },
    "deletable": false,
    "editable": false,
    "run_control": {
     "frozen": true
    },
    "tags": [
     "context"
    ]
   },
   "source": [
    "## 3. How many Chipotle stores have closed?\n",
    "<p>After exploring the map, the first question that comes to mind is why did these particular locations close? In fact, why would any Chipotle ever close? Unfortunately, questions like this defy logic, so after quickly counting up the closed locations, this notebook moves on to the more important question of \"Where should the next Chipotle be opened?\". </p>\n",
    "<p>Rather than counting up all of the circles on our interactive map, we can use <code>dplyr</code> to quickly count the number of closed stores. After we note this, we'll create a new <code>tibble</code> that removes the closed locations from our data so that we do not confuse them for open locations in future maps. </p>"
   ]
  },
  {
   "cell_type": "code",
   "execution_count": 0,
   "metadata": {
    "dc": {
     "key": "17"
    },
    "tags": [
     "sample_code"
    ]
   },
   "outputs": [],
   "source": [
    "# Use count from dplyr to count the values for the closed variable\n",
    ".... %>% \n",
    "  count(....)\n",
    "\n",
    "# Create a new tibble named chipotle_open that contains only open chipotle \n",
    "chipotle_open <-\n",
    "  .... %>% \n",
    "  filter(.... == FALSE) %>% \n",
    "  # Drop the closed column from chipotle_open\n",
    "  select(....)"
   ]
  },
  {
   "cell_type": "markdown",
   "metadata": {
    "dc": {
     "key": "24"
    },
    "deletable": false,
    "editable": false,
    "run_control": {
     "frozen": true
    },
    "tags": [
     "context"
    ]
   },
   "source": [
    "## 4. Where are (and aren't) there Chipotles?\n",
    "<p>Where's the closest Chipotle? Perhaps, more interesting is a slightly different question, where aren't there Chipotles (in the US)? \n",
    "By mapping all of the Chipotle locations on an interactive <code>leaflet</code> map we can start to explore patterns in the geographic distribution of the chain's locations. </p>\n",
    "<p>Since there are thousands of store locations, many of which are clustered closely together, we will start with a heatmap. Heatmaps are a popular option for mapping large amounts of points because they leverage a color scheme to represent the data rather than plotting each point individually. This enables users to quickly identify variation in the density of points and prevents tightly clustered points from overlapping. </p>\n",
    "<p>The <code>addHeatmap</code> function comes from the <code>leaflet.extras</code> package, which contains many useful functions that extend the <code>leaflet</code> package.</p>\n",
    "<p>Zooming and panning the map the heatmap will adjust based on the current view of the map. </p>\n",
    "<p>Are there any Chipotle deserts in the United States? </p>"
   ]
  },
  {
   "cell_type": "code",
   "execution_count": 0,
   "metadata": {
    "dc": {
     "key": "24"
    },
    "tags": [
     "sample_code"
    ]
   },
   "outputs": [],
   "source": [
    "# Pipe chipotle_open into a chain of leaflet functions\n",
    "chipotle_heatmap <- \n",
    ".... %>% \n",
    "  leaflet() %>% \n",
    "  # Use addProviderTiles to add the CartoDB provider tile \n",
    "  addProviderTiles(....) %>%\n",
    "  # Use addHeatmap with a radius of 8\n",
    "  ....(radius = 8)\n",
    "\n",
    "# Print heatmap\n",
    "chipotle_heatmap "
   ]
  },
  {
   "cell_type": "markdown",
   "metadata": {
    "dc": {
     "key": "31"
    },
    "deletable": false,
    "editable": false,
    "run_control": {
     "frozen": true
    },
    "tags": [
     "context"
    ]
   },
   "source": [
    "## 5. Which States have the fewest Chipotles?\n",
    "<p>Using the greyscale <code>CartoDB</code> provider tile with a colorful heatmap palette quickly revealed both the presence and absence of Chipotle stores throughout the United States. Using a greyscale base map is often useful for exploratory data analysis as it  makes patterns of Chipotle clusters and Chipotle deserts clearly stand out on the map. </p>\n",
    "<p>For example, panning and zooming the map reveals that Chipotles are often located on horizontal or vertical lines. Zooming in further reveals that this is because stores are often located near interstate highways (check out Utah for an example). </p>\n",
    "<p>Let's take a closer look at where there are not Chipotle stores by quantifying the Chipotle deserts using <code>dplyr</code> to count the number of Chipotle locations in each US state. </p>"
   ]
  },
  {
   "cell_type": "code",
   "execution_count": 0,
   "metadata": {
    "dc": {
     "key": "31"
    },
    "tags": [
     "sample_code"
    ]
   },
   "outputs": [],
   "source": [
    "# Create a new tibble called chipotles_by_state to store the results\n",
    "chipotles_by_state <- \n",
    "chipotle_open %>% \n",
    "  # Filter the data to only Chipotles in the United States\n",
    "  filter(....) %>% \n",
    "  # Count the number of stores in chipotle_open by st\n",
    "  count(....) %>% \n",
    "  # Arrange the number of stores by state in ascending order\n",
    "  ....(n)\n",
    "\n",
    "# Print the state counts\n",
    "chipotles_by_state"
   ]
  },
  {
   "cell_type": "markdown",
   "metadata": {
    "dc": {
     "key": "38"
    },
    "deletable": false,
    "editable": false,
    "run_control": {
     "frozen": true
    },
    "tags": [
     "context"
    ]
   },
   "source": [
    "## 6. How many States in the US?\n",
    "<p>The <code>chipotle_by_state</code> tibble had 48 rows, but there are 50 fifty states in the US. Why don't we have fifty rows? Perhaps, there are two (unfortunate) states do not have a single Chipotle. Let's take a look using a couple of handy features that are included in base R. The <code>state.abb</code> vector has fifty elements, each containing a state's abbreviation. Using this vector in combination with the <code>!</code> and <code>%in%</code> operators, we can quickly and systematically determine which states do not have a Chipotle. The <code>%in%</code> operator helps us to determine which elements of one vector are present <em>in</em> another vector, while the <code>!</code> operator allows us to accomplish the inverse (i.e., finding which elements of one vector are <em>not in</em> another). </p>"
   ]
  },
  {
   "cell_type": "code",
   "execution_count": 0,
   "metadata": {
    "dc": {
     "key": "38"
    },
    "tags": [
     "sample_code"
    ]
   },
   "outputs": [],
   "source": [
    "# Print the state.abb vector\n",
    "# .... YOUR CODE FOR TASK 6 ....\n",
    "\n",
    "# Use the %in% operator to determine which states are in chipotles_by_state\n",
    "state.abb .... chipotles_by_state$st\n",
    "\n",
    "# Use the %in% and ! operators to determine which states are not in chipotles_by_state\n",
    ".... %in% ....\n",
    "\n",
    "# Create a states_wo_chipotles vector\n",
    "states_wo_chipotles <- ....[....state.abb %in% chipotles_by_state$st]\n",
    "\n",
    "# Print states with no Chipotles\n",
    "states_wo_chipotles"
   ]
  },
  {
   "cell_type": "markdown",
   "metadata": {
    "dc": {
     "key": "45"
    },
    "deletable": false,
    "editable": false,
    "run_control": {
     "frozen": true
    },
    "tags": [
     "context"
    ]
   },
   "source": [
    "## 7. Where to open a Chipotle I\n",
    "<p>Wait a second…have I had this wrong all along? 48 + 3 = 51 states!?! Let's take a closer look at the values in our state variable that are not in the <code>state.abb</code> vector. </p>\n",
    "<pre><code class=\"{r} language-{r}\">chipotles_by_state$st[!chipotles_by_state$st %in% state.abb]\n",
    "</code></pre>\n",
    "<p>Ah! Washington, D.C. surprises me once again. DC is a district and not a state, so 51 seems ok for this notebook. </p>\n",
    "<p>Let's focus on the only state in the contiguous United States that does not have a Chipotle: South Dakota. If we were to open a Chipotle location in South Dakota, how might we go about selecting proposed locations? In the following chunks of code, we look at several maps to explore how the location of current Chipotles as well as geographic, transportation, and governmental features of the state may inform this decision.  </p>\n",
    "<p>First, let's take a look at how South Dakota's population is distributed across the state using data from the US Census. The <code>tidycensus</code> package in R can be used to facilitate access to census data from R. For a great example, check out [this](\n",
    "https://juliasilge.com/blog/using-tidycensus/) blog post by Julia Silge.  </p>"
   ]
  },
  {
   "cell_type": "code",
   "execution_count": 0,
   "metadata": {
    "dc": {
     "key": "45"
    },
    "tags": [
     "sample_code"
    ]
   },
   "outputs": [],
   "source": [
    "# Load south_dakota_pop.rds into an object called south_dakota_pop\n",
    "south_dakota_pop <- readRDS(\"datasets/south_dakota_pop.rds\")\n",
    "\n",
    "# Create color palette to color map by county population estimate\n",
    "pal <- colorNumeric(palette = \"viridis\", domain = south_dakota_pop$....)\n",
    "\n",
    "sd_pop_map <-\n",
    "  south_dakota_pop %>%\n",
    "  leaflet() %>%\n",
    "  addProviderTiles(\"CartoDB\") %>%\n",
    "  # Add county boundaries with addPolygons and color by population estimate\n",
    "  ....(stroke = FALSE, fillOpacity = 0.7, color = ~ pal(estimate)) %>%\n",
    "  # Add a legend using addLegend \n",
    "  ....(pal = pal, values = ~estimate, title = \"Population\")\n",
    "\n",
    "# Print map of South Dakota population by county\n",
    "sd_pop_map"
   ]
  },
  {
   "cell_type": "markdown",
   "metadata": {
    "dc": {
     "key": "52"
    },
    "deletable": false,
    "editable": false,
    "run_control": {
     "frozen": true
    },
    "tags": [
     "context"
    ]
   },
   "source": [
    "## 8. Where to open a Chipotle II\n",
    "<p>Minnehaha and Pennington counties really stand out on population map. These counties are home to Sioux Falls and Rapid City, respectively. Let's take a closer look at each of the two largest cities in South Dakota to consider what features of the base map may be important when selecting the location of a Chipotle?</p>\n",
    "<p>Sioux Falls has a larger population, but Rapid City is proximate to Badlands National park, which has a million visitors a year. Additionally, we should note that I-90, a major interstate in America, runs through both cities.  </p>\n",
    "<p>Let's plot a proposed Chipotle location in each city to further our exploration. The <code>geocode</code> function from the <code>ggmap</code> package can be used to geocode locations in R. Alternatively, the <code>addReverseSearchOSM</code> function from the <code>leaflet.extras</code> package can be used to enable geocoding via mouse click on an interactive map. </p>"
   ]
  },
  {
   "cell_type": "code",
   "execution_count": 0,
   "metadata": {
    "dc": {
     "key": "52"
    },
    "tags": [
     "sample_code"
    ]
   },
   "outputs": [],
   "source": [
    "# Load chipotle_sd_locations.csv that contains proposed South Dakota locations  \n",
    "chipotle_sd_locations <- ....(\"datasets/chipotle_sd_locations.csv\")\n",
    "\n",
    "# limit chipotle store data to locations in states boardering South Dakota\n",
    "chipotle_market_research <- \n",
    "  chipotle_open %>% \n",
    "  ....(st %in% c(...., \"MN\", \"MT\", \"ND\", \"NE\", \"WY\")) %>% \n",
    "  select(city, st, lat, lon) %>% \n",
    "  mutate(status = \"open\") %>% \n",
    "  # bind the data on proposed SD locations onto the open store data\n",
    "  ....(chipotle_sd_locations) \n",
    "\n",
    "# print the market research data\n",
    "chipotle_market_research"
   ]
  },
  {
   "cell_type": "markdown",
   "metadata": {
    "dc": {
     "key": "59"
    },
    "deletable": false,
    "editable": false,
    "run_control": {
     "frozen": true
    },
    "tags": [
     "context"
    ]
   },
   "source": [
    "## 9. Where to open a Chipotle III\n",
    "<p>Let's map our proposed Chipotle restaurants in Sioux Falls and Rapid City so we can quickly see how close they are to the nearest open location. </p>\n",
    "<p>So far our maps have been built using a single base map (e.g., <code>CartoDB</code>) with a single data layer (e.g., circle markers or polygons).  The <code>leaflet</code> package works like <code>ggplot2</code> and allows for multiple data layers on the same map.  Then <code>addLayerControls</code> will enable users to have control of which layers are visible. </p>\n",
    "<p>Let's apply this concept in a new <code>leaflet</code> map that plots all of the open and proposed Chipotle locations in South Dakota and its bordering states. Then adding a second layer to draw a circle around each of the proposed locations to determine if there is an open store within 100 miles. </p>\n",
    "<p>When using a categorical variable to create a color palette, colors can be mapped directly to the levels of the factor (i.e., there is one color in the palette for each level of the factor) or the palette can be interpolated by the <code>colorFactor</code> function to create the necessary number of colors. </p>"
   ]
  },
  {
   "cell_type": "code",
   "execution_count": 0,
   "metadata": {
    "dc": {
     "key": "59"
    },
    "tags": [
     "sample_code"
    ]
   },
   "outputs": [],
   "source": [
    "# Create a blue and red color palette to distinguish between open and proposed stores\n",
    "pal <- ....(palette = c(\"Blue\", \"Red\"), domain = c(\"open\", \"proposed\"))\n",
    "\n",
    "# Map the open and proposed locations\n",
    "sd_proposed_map <-\n",
    "  chipotle_market_research %>% \n",
    "  leaflet() %>% \n",
    "  # Add the Stamen Toner provider tile\n",
    "  addProviderTiles(....) %>%\n",
    "  # Apply the pal color palette\n",
    "  addCircles(color = ~pal(....)) %>%\n",
    "  # Draw a circle with a 100 mi radius around the proposed locations\n",
    "  addCircles(data = chipotle_sd_locations, radius = .... * 1609.34, color = ~pal(status), fill = FALSE) \n",
    "\n",
    "# Print the map of proposed locations \n",
    "sd_proposed_map"
   ]
  },
  {
   "cell_type": "markdown",
   "metadata": {
    "dc": {
     "key": "66"
    },
    "deletable": false,
    "editable": false,
    "run_control": {
     "frozen": true
    },
    "tags": [
     "context"
    ]
   },
   "source": [
    "## 10. Where to open a Chipotle IV\n",
    "<p>It looks like there is a Chipotle within a 100 miles of the proposed Sioux Falls location, but not Rapid City. This is helpful to know but perhaps even more helpful would be to understand all of the locations that are closer to a proposed Chipotle than to an open one. </p>\n",
    "<p>Voronoi polygons can be used to plot a polygon around each location. The bounds of each polygon will enclose all of the points on the map that are closest to a specific Chipotle. These polygons can then be used to visualize an approximation of the area covered by each Chipotle.  </p>\n",
    "<p>Where should the next Chipotle be opened (hint: there has never been a wrong answer to this question!)? </p>"
   ]
  },
  {
   "cell_type": "code",
   "execution_count": 0,
   "metadata": {
    "dc": {
     "key": "66"
    },
    "tags": [
     "sample_code"
    ]
   },
   "outputs": [],
   "source": [
    "# load the Voronoi polygon data \n",
    "polys <- ....(\"datasets/voronoi_polygons.rds\")\n",
    "\n",
    "voronoi_map <- \n",
    "  polys %>%\n",
    "  leaflet() %>%\n",
    "  # Use the CartoDB provider tile\n",
    "  addProviderTiles(....) %>%\n",
    "  # Plot Voronoi polygons using addPolygons\n",
    "  ....(fillColor = ~pal(status), weight = 0.5, color = \"black\") %>%\n",
    "  # Add proposed and open locations as another layer\n",
    "  addCircleMarkers(data = ...., label = ~city, color = ~pal(status))\n",
    "\n",
    "# Print the Voronoi map\n",
    "voronoi_map"
   ]
  },
  {
   "cell_type": "markdown",
   "metadata": {
    "dc": {
     "key": "73"
    },
    "deletable": false,
    "editable": false,
    "run_control": {
     "frozen": true
    },
    "tags": [
     "context"
    ]
   },
   "source": [
    "## 11. Where should the next Chipotle be opened?\n",
    "<p>After loading thousands of Chipotle locations from Thinknum, creating tables and a heatmap, identifying the shocking fact that South Dakota does not have a single Chipotle, using exploratory data analysis to investigate where a store location may make sense, including</p>\n",
    "<ul>\n",
    "<li>creating a county-level choropleth map showing population,</li>\n",
    "<li>drawing circles with 100-mile radii around each proposed location, and</li>\n",
    "<li>mapping Voronoi polygons to estimate the area covered by each proposed Chipotle, </li>\n",
    "</ul>\n",
    "<p>It all comes down to this: <strong>Where should the next Chipotle be opened?</strong></p>"
   ]
  },
  {
   "cell_type": "code",
   "execution_count": 0,
   "metadata": {
    "dc": {
     "key": "73"
    },
    "tags": [
     "sample_code"
    ]
   },
   "outputs": [],
   "source": [
    "# Where should the next Chipotle store be? \n",
    "next_chipotle <- tibble(location = c(\"Rapid City, SD\", \"Sioux Falls, SD\"),\n",
    "                        open_new_store = c(...., ....))"
   ]
  }
 ],
 "metadata": {
  "kernelspec": {
   "display_name": "R",
   "language": "R",
   "name": "ir"
  },
  "language_info": {
   "codemirror_mode": "r",
   "file_extension": ".r",
   "mimetype": "text/x-r-source",
   "name": "R",
   "pygments_lexer": "r",
   "version": "3.6.1"
  }
 },
 "nbformat": 4,
 "nbformat_minor": 2
}
